{
 "cells": [
  {
   "cell_type": "markdown",
   "metadata": {},
   "source": [
    "# Assignment 2"
   ]
  },
  {
   "cell_type": "code",
   "execution_count": null,
   "metadata": {
    "collapsed": true
   },
   "outputs": [],
   "source": [
    "# Author -> Sanath Shivaswamy\n",
    "# ID -> W1166731"
   ]
  },
  {
   "cell_type": "code",
   "execution_count": 1,
   "metadata": {
    "collapsed": false
   },
   "outputs": [],
   "source": [
    "#Importing packages\n",
    "import pandas as pd\n",
    "import re\n",
    "import matplotlib.pyplot as plt\n",
    "from os import path\n",
    "from nltk.corpus import stopwords"
   ]
  },
  {
   "cell_type": "markdown",
   "metadata": {},
   "source": [
    "## Sentimental Analysis for TRUMP"
   ]
  },
  {
   "cell_type": "code",
   "execution_count": null,
   "metadata": {
    "collapsed": true
   },
   "outputs": [],
   "source": [
    "# I added extra functionality to tweetering.py to clean the tweets (Ex: Remove Authors, Special Characters and so on)\n",
    "# The cleaned tweets are saved in the trump_tweets.txt file\n",
    "# 10,000 tweets each for trump and clinton"
   ]
  },
  {
   "cell_type": "code",
   "execution_count": 19,
   "metadata": {
    "collapsed": true
   },
   "outputs": [],
   "source": [
    "file = open(\"trump_tweets.txt\",\"r\")\n",
    "tweets = file.read()"
   ]
  },
  {
   "cell_type": "code",
   "execution_count": 20,
   "metadata": {
    "collapsed": false
   },
   "outputs": [
    {
     "name": "stdout",
     "output_type": "stream",
     "text": [
      "[\"u'so it really sticks in the craw to see people bring it up to defend Trump when there was fuck all effort to push left on it'\", \" u'Hillary Clinton to Ellen DeGeneres Trump stalking me was really weird I take absolutely no satisfaction'\", \" u'I so agree I can t watch this orange clown anymore Who does he think he is DICKtator Trump'\", \" u'Woman claims Trump grabbed and forcibly kissed her in front of her family at Mother s Day brunch Raw Story'\", \" u'Freedom loving Americans repudiate anybody who says they want to make lawful voters a little bit nervous at polls'\", \" u'BOOOOM HillaryBecause Hillary Clinton Camp amp GloriaAllred amp DNC Conspired Hoax Grope on Donald Trump read wh'\", \" u'Enough is Enough Team Trump Severed Ties With Kasich s Ohio GOPe Chairman'\", \" u'Alec Baldwin nails Trump again but it s Ken Bone who steals the show on SNL'\", \" u'Trump wants supporters to be election monitors I asked one what he ll watch for It s called racial profiling'\", \" u'Interesting thread I think Conway is cannily adopting SNL representation of her as an escape taint of working for'\"]\n"
     ]
    }
   ],
   "source": [
    "# Cleaned trump tweets\n",
    "tweets = tweets.strip(\"[]\") \n",
    "tweet_list = tweets.split(\",\")\n",
    "print(tweet_list[:10]) "
   ]
  },
  {
   "cell_type": "code",
   "execution_count": 55,
   "metadata": {
    "collapsed": false
   },
   "outputs": [],
   "source": [
    "# Removing stop words\n",
    "cached_stop_words = stopwords.words(\"english\")\n",
    "# Removing trivial words from consideration\n",
    "cached_stop_words.extend([\"like\",\"trump\",\"donald\",\"hillary\",\"clinton\",\"says\",\"support\",\"vote\",\"media\",\"said\",\"realdonaldtrump\",\"debate\",\"must\",\"know\",\"peter\",\"would\",\"make\"])\n",
    "word_list = []\n",
    "for tweet in tweet_list:\n",
    "    for word in tweet.split():\n",
    "        word = re.sub('^u\\'','',word)\n",
    "        word = re.sub('\\'','',word)\n",
    "        word = word.lower()\n",
    "        if len(word) > 3:\n",
    "            if str(word) not in cached_stop_words:\n",
    "                word_list.append(word)"
   ]
  },
  {
   "cell_type": "code",
   "execution_count": 56,
   "metadata": {
    "collapsed": false
   },
   "outputs": [
    {
     "name": "stdout",
     "output_type": "stream",
     "text": [
      "['really', 'sticks', 'craw', 'people', 'bring', 'defend', 'fuck', 'effort', 'push', 'left', 'ellen', 'degeneres', 'stalking', 'really', 'weird', 'take', 'absolutely', 'satisfaction', 'agree', 'watch', 'orange', 'clown', 'anymore', 'think', 'dicktator', 'woman', 'claims', 'grabbed', 'forcibly', 'kissed', 'front', 'family', 'mother', 'brunch', 'story', 'freedom', 'loving', 'americans', 'repudiate', 'anybody', 'want', 'lawful', 'voters', 'little', 'nervous', 'polls', 'boooom', 'hillarybecause', 'camp', 'gloriaallred']\n"
     ]
    }
   ],
   "source": [
    "print(word_list[:50])"
   ]
  },
  {
   "cell_type": "code",
   "execution_count": 57,
   "metadata": {
    "collapsed": false
   },
   "outputs": [],
   "source": [
    "# Calculating frequency of each word\n",
    "word_freq = {}\n",
    "for word in word_list:\n",
    "    if word in word_freq.keys():\n",
    "        word_freq[word] = word_freq[word] + 1\n",
    "    else:\n",
    "        word_freq[word] = 1"
   ]
  },
  {
   "cell_type": "code",
   "execution_count": 58,
   "metadata": {
    "collapsed": false
   },
   "outputs": [
    {
     "name": "stdout",
     "output_type": "stream",
     "text": [
      "Top 10 words for TRUMP:\n",
      "('women', 515)\n",
      "('election', 480)\n",
      "('people', 414)\n",
      "('president', 386)\n",
      "('supporters', 346)\n",
      "('campaign', 346)\n",
      "('thiel', 288)\n",
      "('million', 273)\n",
      "('rigged', 243)\n",
      "('black', 193)\n"
     ]
    }
   ],
   "source": [
    "# Print top ten words for TRUMP\n",
    "sorted_word_freq = list(sorted(word_freq.iteritems(), key=lambda (k,v): (v,k), reverse=True))\n",
    "top_ten = []\n",
    "print(\"Top 10 words for TRUMP:\")\n",
    "for i in range(10):\n",
    "    top_ten.append(sorted_word_freq[i])\n",
    "    print(sorted_word_freq[i])"
   ]
  },
  {
   "cell_type": "code",
   "execution_count": 59,
   "metadata": {
    "collapsed": false
   },
   "outputs": [
    {
     "name": "stdout",
     "output_type": "stream",
     "text": [
      "Populating the interactive namespace from numpy and matplotlib\n"
     ]
    },
    {
     "data": {
      "image/png": "[encoded data removed]",
      "text/plain": [
       "<matplotlib.figure.Figure at 0x111ccd0d0>"
      ]
     },
     "metadata": {},
     "output_type": "display_data"
    }
   ],
   "source": [
    "%pylab inline\n",
    "df = pd.DataFrame(top_ten)\n",
    "df[1] = pd.to_numeric(df[1])\n",
    "df.columns = [\"Words\",\"Frequency\"]\n",
    "df.index = df.Words\n",
    "df = df.sort_values(by='Frequency', ascending=1)\n",
    "top_10 = df[['Words','Frequency']].plot(kind='barh', title =\"Trump Top 10 Words\",figsize=(10,5),legend=True, fontsize=12,color='orange')\n",
    "top_10.set_xlabel(\"Frequency\",fontsize=12)\n",
    "top_10.set_ylabel(\"Words\",fontsize=12)\n",
    "plt.show()"
   ]
  },
  {
   "cell_type": "code",
   "execution_count": 60,
   "metadata": {
    "collapsed": false
   },
   "outputs": [],
   "source": [
    "# Adding sentiment values to top 10 words\n",
    "top_ten_dict = {}\n",
    "sentiment = [-1,1,1,1,1,1,1,1,-1,-1] # manually setting sentiment value\n",
    "counter = 0\n",
    "for key, value in top_ten:\n",
    "    top_ten_dict[key] = value * sentiment[counter] #taking the word freq into account\n",
    "    counter = counter + 1"
   ]
  },
  {
   "cell_type": "code",
   "execution_count": 61,
   "metadata": {
    "collapsed": false
   },
   "outputs": [
    {
     "name": "stdout",
     "output_type": "stream",
     "text": [
      "{'million': 273, 'supporters': 346, 'campaign': 346, 'people': 414, 'thiel': 288, 'black': -193, 'election': 480, 'rigged': -243, 'president': 386, 'women': -515}\n"
     ]
    }
   ],
   "source": [
    "print(top_ten_dict)"
   ]
  },
  {
   "cell_type": "code",
   "execution_count": 62,
   "metadata": {
    "collapsed": false
   },
   "outputs": [],
   "source": [
    "# Calculating Average Sentiment Value\n",
    "sum = 0\n",
    "for score in top_ten_dict.values():\n",
    "    sum = sum + score\n",
    "avg = sum/10"
   ]
  },
  {
   "cell_type": "code",
   "execution_count": 63,
   "metadata": {
    "collapsed": false
   },
   "outputs": [
    {
     "name": "stdout",
     "output_type": "stream",
     "text": [
      "Trump: Average Sentiment Value = 158\n"
     ]
    }
   ],
   "source": [
    "print(\"Trump: Average Sentiment Value = %s\"%avg)"
   ]
  },
  {
   "cell_type": "markdown",
   "metadata": {},
   "source": [
    "## Sentimental Analysis for CLINTON"
   ]
  },
  {
   "cell_type": "code",
   "execution_count": null,
   "metadata": {
    "collapsed": true
   },
   "outputs": [],
   "source": [
    "# I added extra functionality to tweetering.py to clean the tweets (Ex: Remove Authors, Special Characters and so on)\n",
    "# The cleaned tweets are saved in the clinton_tweets.txt file\n",
    "# 10,000 tweets each for trump and clinton"
   ]
  },
  {
   "cell_type": "code",
   "execution_count": 2,
   "metadata": {
    "collapsed": true
   },
   "outputs": [],
   "source": [
    "file = open(\"clinton_tweets.txt\",\"r\")\n",
    "tweets = file.read()"
   ]
  },
  {
   "cell_type": "code",
   "execution_count": 3,
   "metadata": {
    "collapsed": false
   },
   "outputs": [
    {
     "name": "stdout",
     "output_type": "stream",
     "text": [
      "[\"u'Leaked emails reveal Hillary Clinton s life of deceit'\", \" u'Hillary Clinton definately knew what C meant she used in her own classified emails she LIED to FBI amp America MAGA h'\", \" u'BUSTED CLINTON CAUGHT LYING OVER TPP SUPPORT Busted HillaryClinton Liar TPP Trade DonaldTrump MAGA Infowars'\", \" u'Hedge funds have given Hillary Clinton MILLION this election cycle compared to k for Trump'\", \" u'New trending GIF tagged snl saturday night live hillary clinton kate mckinnon snl season'\", \" u'How a top Clinton confidante trashed Chelsea after she flagged serious concerns about Clinton Foundation conflicts ht'\", \" u'So Drudge is leaking a poll that supposedly has Clinton up and this is good news for Trump Talk about low expectati'\", \" u'JCT_Article Clinton Foundation Donors Got Weapons Deals From Hillary Clinton s State Department'\", \" u'DRUDGE_REPORT Why do women s groups treat Bill Clinton and Donald Trump differently'\", \" u'Another feather'\"]\n"
     ]
    }
   ],
   "source": [
    "# Cleaned clinton tweets\n",
    "tweets = tweets.strip(\"[]\") \n",
    "tweet_list = tweets.split(\",\")\n",
    "print(tweet_list[:10]) "
   ]
  },
  {
   "cell_type": "code",
   "execution_count": 10,
   "metadata": {
    "collapsed": false
   },
   "outputs": [],
   "source": [
    "# Removing stop words\n",
    "cached_stop_words = stopwords.words(\"english\")\n",
    "# Removing trivial words from consideration\n",
    "cached_stop_words.extend([\"like\",\"trump\",\"donald\",\"hillary\",\"clinton\",\"says\",\"going\",\"sachs\",\"media\",\"vote\"])\n",
    "word_list = []\n",
    "for tweet in tweet_list:\n",
    "    for word in tweet.split():\n",
    "        word = re.sub('^u\\'','',word)\n",
    "        word = re.sub('\\'','',word)\n",
    "        word = word.lower()\n",
    "        if len(word) > 3:\n",
    "            if word not in cached_stop_words:\n",
    "                word_list.append(word)"
   ]
  },
  {
   "cell_type": "code",
   "execution_count": 11,
   "metadata": {
    "collapsed": false
   },
   "outputs": [
    {
     "name": "stdout",
     "output_type": "stream",
     "text": [
      "['leaked', 'emails', 'reveal', 'life', 'deceit', 'definately', 'knew', 'meant', 'used', 'classified', 'emails', 'lied', 'america', 'maga', 'busted', 'caught', 'lying', 'support', 'busted', 'hillaryclinton', 'liar', 'trade', 'donaldtrump', 'maga', 'infowars', 'hedge', 'funds', 'given', 'million', 'election', 'cycle', 'compared', 'trending', 'tagged', 'saturday', 'night', 'live', 'kate', 'mckinnon', 'season', 'confidante', 'trashed', 'chelsea', 'flagged', 'serious', 'concerns', 'foundation', 'conflicts', 'drudge', 'leaking']\n"
     ]
    }
   ],
   "source": [
    "print(word_list[:50])"
   ]
  },
  {
   "cell_type": "code",
   "execution_count": 12,
   "metadata": {
    "collapsed": false
   },
   "outputs": [],
   "source": [
    "# Calculating frequency of each word\n",
    "word_freq = {}\n",
    "for word in word_list:\n",
    "    if word in word_freq.keys():\n",
    "        word_freq[word] = word_freq[word] + 1\n",
    "    else:\n",
    "        word_freq[word] = 1"
   ]
  },
  {
   "cell_type": "code",
   "execution_count": 13,
   "metadata": {
    "collapsed": false
   },
   "outputs": [
    {
     "name": "stdout",
     "output_type": "stream",
     "text": [
      "Top 10 words for CLINTON:\n",
      "('wikileaks', 1228)\n",
      "('emails', 948)\n",
      "('campaign', 828)\n",
      "('bill', 566)\n",
      "('goldman', 496)\n",
      "('american', 393)\n",
      "('podestaemails', 389)\n",
      "('transcripts', 366)\n",
      "('people', 328)\n",
      "('foundation', 325)\n"
     ]
    }
   ],
   "source": [
    "# Print top ten words for CLINTON\n",
    "sorted_word_freq = list(sorted(word_freq.iteritems(), key=lambda (k,v): (v,k), reverse=True))\n",
    "top_ten = []\n",
    "print(\"Top 10 words for CLINTON:\")\n",
    "for i in range(10):\n",
    "    top_ten.append(sorted_word_freq[i])\n",
    "    print(sorted_word_freq[i])"
   ]
  },
  {
   "cell_type": "code",
   "execution_count": 14,
   "metadata": {
    "collapsed": false
   },
   "outputs": [
    {
     "name": "stdout",
     "output_type": "stream",
     "text": [
      "Populating the interactive namespace from numpy and matplotlib\n"
     ]
    },
    {
     "data": {
      "image/png": "[encoded data removed]",
      "text/plain": [
       "<matplotlib.figure.Figure at 0x110fbe410>"
      ]
     },
     "metadata": {},
     "output_type": "display_data"
    }
   ],
   "source": [
    "%pylab inline\n",
    "df = pd.DataFrame(top_ten)\n",
    "df[1] = pd.to_numeric(df[1])\n",
    "df.columns = [\"Words\",\"Frequency\"]\n",
    "df.index = df.Words\n",
    "df = df.sort_values(by='Frequency', ascending=1)\n",
    "top_10 = df[['Words','Frequency']].plot(kind='barh', title =\"Clinton Top 10 Words\",figsize=(10,5),legend=True, fontsize=12,color='skyblue')\n",
    "top_10.set_xlabel(\"Frequency\",fontsize=12)\n",
    "top_10.set_ylabel(\"Words\",fontsize=12)\n",
    "plt.show()"
   ]
  },
  {
   "cell_type": "code",
   "execution_count": 15,
   "metadata": {
    "collapsed": false
   },
   "outputs": [],
   "source": [
    "# Adding sentiment values to top 10 words\n",
    "top_ten_dict = {}\n",
    "sentiment = [-1,-1,1,1,-1,-1,1,1,1,1] # manually setting sentiment value\n",
    "counter = 0\n",
    "for key, value in top_ten:\n",
    "    top_ten_dict[key] = value * sentiment[counter] #taking the word freq into account\n",
    "    counter = counter + 1"
   ]
  },
  {
   "cell_type": "code",
   "execution_count": 16,
   "metadata": {
    "collapsed": false
   },
   "outputs": [
    {
     "name": "stdout",
     "output_type": "stream",
     "text": [
      "{'foundation': 325, 'campaign': 828, 'people': 328, 'goldman': -496, 'bill': 566, 'podestaemails': 389, 'american': -393, 'wikileaks': -1228, 'transcripts': 366, 'emails': -948}\n"
     ]
    }
   ],
   "source": [
    "print(top_ten_dict)"
   ]
  },
  {
   "cell_type": "code",
   "execution_count": 17,
   "metadata": {
    "collapsed": false
   },
   "outputs": [],
   "source": [
    "# Calculating Average Sentiment Value\n",
    "sum = 0\n",
    "for score in top_ten_dict.values():\n",
    "    sum = sum + score\n",
    "avg = sum/10"
   ]
  },
  {
   "cell_type": "code",
   "execution_count": 18,
   "metadata": {
    "collapsed": false
   },
   "outputs": [
    {
     "name": "stdout",
     "output_type": "stream",
     "text": [
      "Clinton: Average Sentiment Value = -27\n"
     ]
    }
   ],
   "source": [
    "print(\"Clinton: Average Sentiment Value = %s\"%avg)"
   ]
  }
 ],
 "metadata": {
  "kernelspec": {
   "display_name": "Python 2",
   "language": "python",
   "name": "python2"
  },
  "language_info": {
   "codemirror_mode": {
    "name": "ipython",
    "version": 2
   },
   "file_extension": ".py",
   "mimetype": "text/x-python",
   "name": "python",
   "nbconvert_exporter": "python",
   "pygments_lexer": "ipython2",
   "version": "2.7.10"
  }
 },
 "nbformat": 4,
 "nbformat_minor": 1
}
